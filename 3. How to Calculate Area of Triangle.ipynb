{
 "cells": [
  {
   "cell_type": "code",
   "execution_count": 1,
   "id": "2047eb58",
   "metadata": {},
   "outputs": [
    {
     "name": "stdout",
     "output_type": "stream",
     "text": [
      "Enter the height of the triangle: 4\n",
      "Enter the base of the triange: 6\n",
      "The area of the triangle is :  12.0\n"
     ]
    }
   ],
   "source": [
    "height = float(input(\"Enter the height of the triangle: \")) \n",
    "base = float(input(\"Enter the base of the triange: \"))\n",
    "\n",
    "area = (0.5)*base*height\n",
    "\n",
    "print(\"The area of the triangle is : \", area)"
   ]
  },
  {
   "cell_type": "code",
   "execution_count": null,
   "id": "3dcfc5bd",
   "metadata": {},
   "outputs": [],
   "source": []
  }
 ],
 "metadata": {
  "kernelspec": {
   "display_name": "Python 3 (ipykernel)",
   "language": "python",
   "name": "python3"
  },
  "language_info": {
   "codemirror_mode": {
    "name": "ipython",
    "version": 3
   },
   "file_extension": ".py",
   "mimetype": "text/x-python",
   "name": "python",
   "nbconvert_exporter": "python",
   "pygments_lexer": "ipython3",
   "version": "3.8.8"
  }
 },
 "nbformat": 4,
 "nbformat_minor": 5
}
