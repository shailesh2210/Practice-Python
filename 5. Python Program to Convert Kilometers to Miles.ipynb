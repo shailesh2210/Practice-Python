{
 "cells": [
  {
   "cell_type": "code",
   "execution_count": 1,
   "id": "8a58394c",
   "metadata": {},
   "outputs": [
    {
     "name": "stdout",
     "output_type": "stream",
     "text": [
      "Enter the kilometer :7\n",
      "7.0 Kilometers in miles will be  4.349597 miles\n"
     ]
    }
   ],
   "source": [
    "kilometer = float(input(\"Enter the kilometer :\"))\n",
    "miles = 0.621371* kilometer\n",
    "print(kilometer , \"Kilometers in miles will be \", miles , \"miles\")"
   ]
  },
  {
   "cell_type": "code",
   "execution_count": null,
   "id": "c45926bd",
   "metadata": {},
   "outputs": [],
   "source": []
  },
  {
   "cell_type": "code",
   "execution_count": null,
   "id": "b1a0c4f7",
   "metadata": {},
   "outputs": [],
   "source": []
  }
 ],
 "metadata": {
  "kernelspec": {
   "display_name": "Python 3 (ipykernel)",
   "language": "python",
   "name": "python3"
  },
  "language_info": {
   "codemirror_mode": {
    "name": "ipython",
    "version": 3
   },
   "file_extension": ".py",
   "mimetype": "text/x-python",
   "name": "python",
   "nbconvert_exporter": "python",
   "pygments_lexer": "ipython3",
   "version": "3.8.8"
  }
 },
 "nbformat": 4,
 "nbformat_minor": 5
}
