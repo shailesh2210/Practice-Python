{
 "cells": [
  {
   "cell_type": "markdown",
   "id": "61917eab",
   "metadata": {},
   "source": [
    "#### 1. method"
   ]
  },
  {
   "cell_type": "code",
   "execution_count": 2,
   "id": "9723e89b",
   "metadata": {},
   "outputs": [
    {
     "name": "stdout",
     "output_type": "stream",
     "text": [
      "The square root of the given number is  8.0\n"
     ]
    }
   ],
   "source": [
    "num1 = 64\n",
    "\n",
    "sqr = num1 ** (1/2)\n",
    "print(\"The square root of the given number is \", sqr)"
   ]
  },
  {
   "cell_type": "code",
   "execution_count": 5,
   "id": "58a3a951",
   "metadata": {},
   "outputs": [
    {
     "name": "stdout",
     "output_type": "stream",
     "text": [
      "Enter the numer : 49\n",
      "The square of the given number is : 7.0\n"
     ]
    }
   ],
   "source": [
    "user = int(input(\"Enter the numer : \"))\n",
    "\n",
    "sqr = user**(0.5)\n",
    "print(\"The square of the given number is :\", sqr)"
   ]
  },
  {
   "cell_type": "markdown",
   "id": "86f6bac4",
   "metadata": {},
   "source": [
    "#### 2. method"
   ]
  },
  {
   "cell_type": "code",
   "execution_count": null,
   "id": "3bcc08fc",
   "metadata": {},
   "outputs": [],
   "source": [
    "import math"
   ]
  }
 ],
 "metadata": {
  "kernelspec": {
   "display_name": "Python 3 (ipykernel)",
   "language": "python",
   "name": "python3"
  },
  "language_info": {
   "codemirror_mode": {
    "name": "ipython",
    "version": 3
   },
   "file_extension": ".py",
   "mimetype": "text/x-python",
   "name": "python",
   "nbconvert_exporter": "python",
   "pygments_lexer": "ipython3",
   "version": "3.8.8"
  }
 },
 "nbformat": 4,
 "nbformat_minor": 5
}
