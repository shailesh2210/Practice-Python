{
 "cells": [
  {
   "cell_type": "markdown",
   "id": "e4229972",
   "metadata": {},
   "source": [
    "### Python Program to Add Two Numbers"
   ]
  },
  {
   "cell_type": "code",
   "execution_count": 7,
   "id": "a2444d52",
   "metadata": {},
   "outputs": [
    {
     "name": "stdout",
     "output_type": "stream",
     "text": [
      "The sum of 12 and 27 is:  39\n"
     ]
    }
   ],
   "source": [
    "# Python Program to Add Two Numbers with pre-defined values\n",
    "a = 12\n",
    "b = 27\n",
    "print(f\"The sum of {a} and {b} is: \", a + b)"
   ]
  },
  {
   "cell_type": "code",
   "execution_count": 8,
   "id": "cd8ff3ab",
   "metadata": {},
   "outputs": [
    {
     "name": "stdout",
     "output_type": "stream",
     "text": [
      "The sum of num1 and num2 is  88\n"
     ]
    }
   ],
   "source": [
    "num1 = 45\n",
    "num2 = 43\n",
    "sum = num1 +num2\n",
    "print(\"The sum of num1 and num2 is \" , sum)"
   ]
  },
  {
   "cell_type": "code",
   "execution_count": null,
   "id": "2d3276d0",
   "metadata": {},
   "outputs": [],
   "source": [
    "# take an user input and sum the num\n",
    "num1 = float(input(\"Enter the num : \"))\n",
    "num2 = float(input(\"\"))"
   ]
  }
 ],
 "metadata": {
  "kernelspec": {
   "display_name": "Python 3 (ipykernel)",
   "language": "python",
   "name": "python3"
  },
  "language_info": {
   "codemirror_mode": {
    "name": "ipython",
    "version": 3
   },
   "file_extension": ".py",
   "mimetype": "text/x-python",
   "name": "python",
   "nbconvert_exporter": "python",
   "pygments_lexer": "ipython3",
   "version": "3.8.8"
  }
 },
 "nbformat": 4,
 "nbformat_minor": 5
}
