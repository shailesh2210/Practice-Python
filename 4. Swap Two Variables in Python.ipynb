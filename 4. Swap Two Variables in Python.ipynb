{
 "cells": [
  {
   "cell_type": "markdown",
   "id": "a514d416",
   "metadata": {},
   "source": [
    "### method 1"
   ]
  },
  {
   "cell_type": "code",
   "execution_count": 6,
   "id": "83957884",
   "metadata": {},
   "outputs": [
    {
     "name": "stdout",
     "output_type": "stream",
     "text": [
      "12 13\n"
     ]
    }
   ],
   "source": [
    "x = 13\n",
    "y = 12\n",
    "\n",
    "temp = x\n",
    "\n",
    "x = y\n",
    "y = temp\n",
    "print(x , y)"
   ]
  },
  {
   "cell_type": "markdown",
   "id": "91b246e6",
   "metadata": {},
   "source": [
    "### method 2"
   ]
  },
  {
   "cell_type": "code",
   "execution_count": 7,
   "id": "30ab945b",
   "metadata": {},
   "outputs": [],
   "source": [
    "# without using third varibale\n",
    "x = 13\n",
    "y = 12\n",
    "\n",
    "x, y = y , x"
   ]
  },
  {
   "cell_type": "code",
   "execution_count": 8,
   "id": "f55959f6",
   "metadata": {},
   "outputs": [
    {
     "name": "stdout",
     "output_type": "stream",
     "text": [
      "The value of x is  12\n",
      "The value of y is  13\n"
     ]
    }
   ],
   "source": [
    "print(\"The value of x is \" , x)\n",
    "print(\"The value of y is \" , y)"
   ]
  },
  {
   "cell_type": "code",
   "execution_count": null,
   "id": "12324a6d",
   "metadata": {},
   "outputs": [],
   "source": []
  }
 ],
 "metadata": {
  "kernelspec": {
   "display_name": "Python 3 (ipykernel)",
   "language": "python",
   "name": "python3"
  },
  "language_info": {
   "codemirror_mode": {
    "name": "ipython",
    "version": 3
   },
   "file_extension": ".py",
   "mimetype": "text/x-python",
   "name": "python",
   "nbconvert_exporter": "python",
   "pygments_lexer": "ipython3",
   "version": "3.8.8"
  }
 },
 "nbformat": 4,
 "nbformat_minor": 5
}
